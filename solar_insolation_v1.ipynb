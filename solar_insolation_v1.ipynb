{
 "cells": [
  {
   "cell_type": "markdown",
   "metadata": {},
   "source": [
    "# GEOL 2001: Solar Radiation Lab\n",
    "\n",
    "#### Written by Abby Eckland, October 2020\n",
    "#### Questions? Contact: abigail.eckland@colorado.edu"
   ]
  },
  {
   "cell_type": "markdown",
   "metadata": {},
   "source": [
    "### Learning Goals:\n",
    "- Become familiar with terms: zenith angle, solar flux, radiation, energy, and power\n",
    "- Draft an excel workbooks from scratch to model a natural phenomenon that varies is space and time. \n",
    "- Devise excel formulas to be able to calculate solar flux on variations of Earth’s tilts, latitude and time of day for the following days (a) winter solstice, (b) summer solstice, and (c) Fall/Spring equinox. \n",
    "- Compare and contrasts the time of year, time of day, and the latitude for impacts on the amount of solar insolation a location will receive (hint: will need this later for discussing glacier growth and melt). \n",
    "- ***New:*** *Evaluate and apply lessons learned to calculate solar flux using Python Code in Jupyter Notebooks*"
   ]
  },
  {
   "cell_type": "markdown",
   "metadata": {},
   "source": [
    "### Skills\n",
    "- Dimensional analysis\n",
    "- Working with data\n",
    "- Unit conversions\n",
    "- Figure making in excel\n",
    "- ***New:*** *Reading in and using data using Python in Jupyter Notebooks*\n",
    "- ***New:*** *Data visualization in Jupyer Notebooks*"
   ]
  },
  {
   "cell_type": "markdown",
   "metadata": {},
   "source": [
    "## Part 1: Modeling the Solar Flux by Latitude\n",
    "We want to model the solar flux at various latitudes on earth. To do this, we will use Python in a Jupyter Notebook and the following constants and information."
   ]
  },
  {
   "cell_type": "markdown",
   "metadata": {},
   "source": [
    "Constants:\n",
    "- Solar constant = 1370 $W/m^2$\n",
    "- Axial Tilt = $23.45{^\\circ}$"
   ]
  },
  {
   "cell_type": "markdown",
   "metadata": {},
   "source": [
    "When the sun's radiation hits a surface at an angle, such as the surface of the earth, the angle between incoming radiation that is perpendicular to the surface is called the **zenith angle, Z**. \n",
    "\n",
    "![Zenith Angle Concept](data/zenith_angle.png)"
   ]
  },
  {
   "cell_type": "markdown",
   "metadata": {},
   "source": [
    "You can use the following equations to calculate the midday (noon) solar flux at any zenith angle **(Eq. 1)**:\n",
    "\n",
    "$$q(Z) = S*cos(Z)$$ \n",
    "\n",
    "where q is the insolation, Z is the zenith angle, and S is the solar constant. *Remember, the angle of the earth's tilt relative to the ecliptic will vary based on time of year. In summer in the northern hemisphere, the earth is tilted toward the sun by $23.45{^\\circ}$. In winter in the northern hemisphere, the earth is tilted away from the sun by $23.45{^\\circ}$.* At the equinox it is neither tilted toward nor away from the sun. \n",
    "\n",
    "![Earth's Annual Rotation](data/earth_annual_rotation.png)\n",
    "![Earth's tilt](data/axial_tilt.png)"
   ]
  },
  {
   "cell_type": "markdown",
   "metadata": {},
   "source": [
    "#### **Step 1**\n",
    "Write code to model the insolation, or solar flux, at latitudes every $10{^\\circ}$ between $-90{^\\circ}$ and $90{^\\circ} N$. To start, we will just consider the solar flux at local noon - when the sun is highest in the sky. \n",
    "\n",
    "Create an array called \"Latitude\" of latitude values between $-90{^\\circ}$ and $90{^\\circ} N$. "
   ]
  },
  {
   "cell_type": "code",
   "execution_count": 2,
   "metadata": {},
   "outputs": [],
   "source": [
    "# Import packages\n",
    "import pandas as pd\n",
    "import numpy as np"
   ]
  },
  {
   "cell_type": "code",
   "execution_count": 3,
   "metadata": {},
   "outputs": [],
   "source": [
    "# Create pandas dataframe\n",
    "Q_by_lat = pd.DataFrame()"
   ]
  },
  {
   "cell_type": "code",
   "execution_count": 4,
   "metadata": {},
   "outputs": [],
   "source": [
    "# Create column called \"Latitude\" and fill with values from -90 to 90.\n",
    "Q_by_lat['Latitude (N)'] = np.arange(-90, 100, 10)"
   ]
  },
  {
   "cell_type": "code",
   "execution_count": 5,
   "metadata": {},
   "outputs": [
    {
     "data": {
      "text/html": [
       "<div>\n",
       "<style scoped>\n",
       "    .dataframe tbody tr th:only-of-type {\n",
       "        vertical-align: middle;\n",
       "    }\n",
       "\n",
       "    .dataframe tbody tr th {\n",
       "        vertical-align: top;\n",
       "    }\n",
       "\n",
       "    .dataframe thead th {\n",
       "        text-align: right;\n",
       "    }\n",
       "</style>\n",
       "<table border=\"1\" class=\"dataframe\">\n",
       "  <thead>\n",
       "    <tr style=\"text-align: right;\">\n",
       "      <th></th>\n",
       "      <th>Latitude (N)</th>\n",
       "    </tr>\n",
       "  </thead>\n",
       "  <tbody>\n",
       "    <tr>\n",
       "      <th>0</th>\n",
       "      <td>-90</td>\n",
       "    </tr>\n",
       "    <tr>\n",
       "      <th>1</th>\n",
       "      <td>-80</td>\n",
       "    </tr>\n",
       "    <tr>\n",
       "      <th>2</th>\n",
       "      <td>-70</td>\n",
       "    </tr>\n",
       "    <tr>\n",
       "      <th>3</th>\n",
       "      <td>-60</td>\n",
       "    </tr>\n",
       "    <tr>\n",
       "      <th>4</th>\n",
       "      <td>-50</td>\n",
       "    </tr>\n",
       "    <tr>\n",
       "      <th>5</th>\n",
       "      <td>-40</td>\n",
       "    </tr>\n",
       "    <tr>\n",
       "      <th>6</th>\n",
       "      <td>-30</td>\n",
       "    </tr>\n",
       "    <tr>\n",
       "      <th>7</th>\n",
       "      <td>-20</td>\n",
       "    </tr>\n",
       "    <tr>\n",
       "      <th>8</th>\n",
       "      <td>-10</td>\n",
       "    </tr>\n",
       "    <tr>\n",
       "      <th>9</th>\n",
       "      <td>0</td>\n",
       "    </tr>\n",
       "    <tr>\n",
       "      <th>10</th>\n",
       "      <td>10</td>\n",
       "    </tr>\n",
       "    <tr>\n",
       "      <th>11</th>\n",
       "      <td>20</td>\n",
       "    </tr>\n",
       "    <tr>\n",
       "      <th>12</th>\n",
       "      <td>30</td>\n",
       "    </tr>\n",
       "    <tr>\n",
       "      <th>13</th>\n",
       "      <td>40</td>\n",
       "    </tr>\n",
       "    <tr>\n",
       "      <th>14</th>\n",
       "      <td>50</td>\n",
       "    </tr>\n",
       "    <tr>\n",
       "      <th>15</th>\n",
       "      <td>60</td>\n",
       "    </tr>\n",
       "    <tr>\n",
       "      <th>16</th>\n",
       "      <td>70</td>\n",
       "    </tr>\n",
       "    <tr>\n",
       "      <th>17</th>\n",
       "      <td>80</td>\n",
       "    </tr>\n",
       "    <tr>\n",
       "      <th>18</th>\n",
       "      <td>90</td>\n",
       "    </tr>\n",
       "  </tbody>\n",
       "</table>\n",
       "</div>"
      ],
      "text/plain": [
       "    Latitude (N)\n",
       "0            -90\n",
       "1            -80\n",
       "2            -70\n",
       "3            -60\n",
       "4            -50\n",
       "5            -40\n",
       "6            -30\n",
       "7            -20\n",
       "8            -10\n",
       "9              0\n",
       "10            10\n",
       "11            20\n",
       "12            30\n",
       "13            40\n",
       "14            50\n",
       "15            60\n",
       "16            70\n",
       "17            80\n",
       "18            90"
      ]
     },
     "execution_count": 5,
     "metadata": {},
     "output_type": "execute_result"
    }
   ],
   "source": [
    "# Preview the dataframe\n",
    "Q_by_lat"
   ]
  },
  {
   "cell_type": "markdown",
   "metadata": {},
   "source": [
    "#### **Step 2**\n",
    "\n",
    "Use Python to calculate insolation at noon on both equinoxes (spring and fall) and both solstices (summer and winter). \n",
    "\n",
    "Hint: break calculations and equations down into smaller steps and go column by column to get the insolation for each of these times of the year at all latitudes. You will need to repeat your calculations for summer solstice, winter solstice, and the equinoxes. \n",
    "\n",
    "This notebook will show you how to calculate the insolation during the summer solstice."
   ]
  },
  {
   "cell_type": "code",
   "execution_count": 14,
   "metadata": {},
   "outputs": [
    {
     "data": {
      "text/html": [
       "<div>\n",
       "<style scoped>\n",
       "    .dataframe tbody tr th:only-of-type {\n",
       "        vertical-align: middle;\n",
       "    }\n",
       "\n",
       "    .dataframe tbody tr th {\n",
       "        vertical-align: top;\n",
       "    }\n",
       "\n",
       "    .dataframe thead th {\n",
       "        text-align: right;\n",
       "    }\n",
       "</style>\n",
       "<table border=\"1\" class=\"dataframe\">\n",
       "  <thead>\n",
       "    <tr style=\"text-align: right;\">\n",
       "      <th></th>\n",
       "      <th>Latitude (N)</th>\n",
       "      <th>Axial Tilt (deg)</th>\n",
       "    </tr>\n",
       "  </thead>\n",
       "  <tbody>\n",
       "    <tr>\n",
       "      <th>0</th>\n",
       "      <td>-90</td>\n",
       "      <td>23.45</td>\n",
       "    </tr>\n",
       "    <tr>\n",
       "      <th>1</th>\n",
       "      <td>-80</td>\n",
       "      <td>23.45</td>\n",
       "    </tr>\n",
       "    <tr>\n",
       "      <th>2</th>\n",
       "      <td>-70</td>\n",
       "      <td>23.45</td>\n",
       "    </tr>\n",
       "    <tr>\n",
       "      <th>3</th>\n",
       "      <td>-60</td>\n",
       "      <td>23.45</td>\n",
       "    </tr>\n",
       "    <tr>\n",
       "      <th>4</th>\n",
       "      <td>-50</td>\n",
       "      <td>23.45</td>\n",
       "    </tr>\n",
       "  </tbody>\n",
       "</table>\n",
       "</div>"
      ],
      "text/plain": [
       "   Latitude (N)  Axial Tilt (deg)\n",
       "0           -90             23.45\n",
       "1           -80             23.45\n",
       "2           -70             23.45\n",
       "3           -60             23.45\n",
       "4           -50             23.45"
      ]
     },
     "execution_count": 14,
     "metadata": {},
     "output_type": "execute_result"
    }
   ],
   "source": [
    "Q_by_lat['Axial Tilt (deg)'] = 23.45\n",
    "Q_by_lat.head()"
   ]
  },
  {
   "cell_type": "code",
   "execution_count": 21,
   "metadata": {},
   "outputs": [
    {
     "data": {
      "text/html": [
       "<div>\n",
       "<style scoped>\n",
       "    .dataframe tbody tr th:only-of-type {\n",
       "        vertical-align: middle;\n",
       "    }\n",
       "\n",
       "    .dataframe tbody tr th {\n",
       "        vertical-align: top;\n",
       "    }\n",
       "\n",
       "    .dataframe thead th {\n",
       "        text-align: right;\n",
       "    }\n",
       "</style>\n",
       "<table border=\"1\" class=\"dataframe\">\n",
       "  <thead>\n",
       "    <tr style=\"text-align: right;\">\n",
       "      <th></th>\n",
       "      <th>Latitude (N)</th>\n",
       "      <th>Axial Tilt (deg)</th>\n",
       "      <th>Zenith Angle (deg)</th>\n",
       "      <th>Zenith Angle (rad)</th>\n",
       "    </tr>\n",
       "  </thead>\n",
       "  <tbody>\n",
       "    <tr>\n",
       "      <th>0</th>\n",
       "      <td>-90</td>\n",
       "      <td>23.45</td>\n",
       "      <td>-113.45</td>\n",
       "      <td>1.980076</td>\n",
       "    </tr>\n",
       "    <tr>\n",
       "      <th>1</th>\n",
       "      <td>-80</td>\n",
       "      <td>23.45</td>\n",
       "      <td>-103.45</td>\n",
       "      <td>1.805543</td>\n",
       "    </tr>\n",
       "    <tr>\n",
       "      <th>2</th>\n",
       "      <td>-70</td>\n",
       "      <td>23.45</td>\n",
       "      <td>-93.45</td>\n",
       "      <td>1.631010</td>\n",
       "    </tr>\n",
       "    <tr>\n",
       "      <th>3</th>\n",
       "      <td>-60</td>\n",
       "      <td>23.45</td>\n",
       "      <td>-83.45</td>\n",
       "      <td>1.456477</td>\n",
       "    </tr>\n",
       "    <tr>\n",
       "      <th>4</th>\n",
       "      <td>-50</td>\n",
       "      <td>23.45</td>\n",
       "      <td>-73.45</td>\n",
       "      <td>1.281944</td>\n",
       "    </tr>\n",
       "  </tbody>\n",
       "</table>\n",
       "</div>"
      ],
      "text/plain": [
       "   Latitude (N)  Axial Tilt (deg)  Zenith Angle (deg)  Zenith Angle (rad)\n",
       "0           -90             23.45             -113.45            1.980076\n",
       "1           -80             23.45             -103.45            1.805543\n",
       "2           -70             23.45              -93.45            1.631010\n",
       "3           -60             23.45              -83.45            1.456477\n",
       "4           -50             23.45              -73.45            1.281944"
      ]
     },
     "execution_count": 21,
     "metadata": {},
     "output_type": "execute_result"
    }
   ],
   "source": [
    "Q_by_lat['Zenith Angle (deg)'] = Q_by_lat['Latitude (N)'] - Q_by_lat['Axial Tilt (deg)']\n",
    "Q_by_lat.head()"
   ]
  },
  {
   "cell_type": "code",
   "execution_count": 22,
   "metadata": {},
   "outputs": [
    {
     "data": {
      "text/html": [
       "<div>\n",
       "<style scoped>\n",
       "    .dataframe tbody tr th:only-of-type {\n",
       "        vertical-align: middle;\n",
       "    }\n",
       "\n",
       "    .dataframe tbody tr th {\n",
       "        vertical-align: top;\n",
       "    }\n",
       "\n",
       "    .dataframe thead th {\n",
       "        text-align: right;\n",
       "    }\n",
       "</style>\n",
       "<table border=\"1\" class=\"dataframe\">\n",
       "  <thead>\n",
       "    <tr style=\"text-align: right;\">\n",
       "      <th></th>\n",
       "      <th>Latitude (N)</th>\n",
       "      <th>Axial Tilt (deg)</th>\n",
       "      <th>Zenith Angle (deg)</th>\n",
       "      <th>Zenith Angle (rad)</th>\n",
       "    </tr>\n",
       "  </thead>\n",
       "  <tbody>\n",
       "    <tr>\n",
       "      <th>0</th>\n",
       "      <td>-90</td>\n",
       "      <td>23.45</td>\n",
       "      <td>-113.45</td>\n",
       "      <td>-1.980076</td>\n",
       "    </tr>\n",
       "    <tr>\n",
       "      <th>1</th>\n",
       "      <td>-80</td>\n",
       "      <td>23.45</td>\n",
       "      <td>-103.45</td>\n",
       "      <td>-1.805543</td>\n",
       "    </tr>\n",
       "    <tr>\n",
       "      <th>2</th>\n",
       "      <td>-70</td>\n",
       "      <td>23.45</td>\n",
       "      <td>-93.45</td>\n",
       "      <td>-1.631010</td>\n",
       "    </tr>\n",
       "    <tr>\n",
       "      <th>3</th>\n",
       "      <td>-60</td>\n",
       "      <td>23.45</td>\n",
       "      <td>-83.45</td>\n",
       "      <td>-1.456477</td>\n",
       "    </tr>\n",
       "    <tr>\n",
       "      <th>4</th>\n",
       "      <td>-50</td>\n",
       "      <td>23.45</td>\n",
       "      <td>-73.45</td>\n",
       "      <td>-1.281944</td>\n",
       "    </tr>\n",
       "  </tbody>\n",
       "</table>\n",
       "</div>"
      ],
      "text/plain": [
       "   Latitude (N)  Axial Tilt (deg)  Zenith Angle (deg)  Zenith Angle (rad)\n",
       "0           -90             23.45             -113.45           -1.980076\n",
       "1           -80             23.45             -103.45           -1.805543\n",
       "2           -70             23.45              -93.45           -1.631010\n",
       "3           -60             23.45              -83.45           -1.456477\n",
       "4           -50             23.45              -73.45           -1.281944"
      ]
     },
     "execution_count": 22,
     "metadata": {},
     "output_type": "execute_result"
    }
   ],
   "source": [
    "Q_by_lat['Zenith Angle (rad)'] = np.radians(Q_by_lat['Zenith Angle (deg)'])\n",
    "Q_by_lat.head()"
   ]
  },
  {
   "cell_type": "code",
   "execution_count": 24,
   "metadata": {},
   "outputs": [
    {
     "data": {
      "text/html": [
       "<div>\n",
       "<style scoped>\n",
       "    .dataframe tbody tr th:only-of-type {\n",
       "        vertical-align: middle;\n",
       "    }\n",
       "\n",
       "    .dataframe tbody tr th {\n",
       "        vertical-align: top;\n",
       "    }\n",
       "\n",
       "    .dataframe thead th {\n",
       "        text-align: right;\n",
       "    }\n",
       "</style>\n",
       "<table border=\"1\" class=\"dataframe\">\n",
       "  <thead>\n",
       "    <tr style=\"text-align: right;\">\n",
       "      <th></th>\n",
       "      <th>Latitude (N)</th>\n",
       "      <th>Axial Tilt (deg)</th>\n",
       "      <th>Zenith Angle (deg)</th>\n",
       "      <th>Zenith Angle (rad)</th>\n",
       "      <th>Solar Constant (W/m^2)</th>\n",
       "    </tr>\n",
       "  </thead>\n",
       "  <tbody>\n",
       "    <tr>\n",
       "      <th>0</th>\n",
       "      <td>-90</td>\n",
       "      <td>23.45</td>\n",
       "      <td>-113.45</td>\n",
       "      <td>-1.980076</td>\n",
       "      <td>1370</td>\n",
       "    </tr>\n",
       "    <tr>\n",
       "      <th>1</th>\n",
       "      <td>-80</td>\n",
       "      <td>23.45</td>\n",
       "      <td>-103.45</td>\n",
       "      <td>-1.805543</td>\n",
       "      <td>1370</td>\n",
       "    </tr>\n",
       "    <tr>\n",
       "      <th>2</th>\n",
       "      <td>-70</td>\n",
       "      <td>23.45</td>\n",
       "      <td>-93.45</td>\n",
       "      <td>-1.631010</td>\n",
       "      <td>1370</td>\n",
       "    </tr>\n",
       "    <tr>\n",
       "      <th>3</th>\n",
       "      <td>-60</td>\n",
       "      <td>23.45</td>\n",
       "      <td>-83.45</td>\n",
       "      <td>-1.456477</td>\n",
       "      <td>1370</td>\n",
       "    </tr>\n",
       "    <tr>\n",
       "      <th>4</th>\n",
       "      <td>-50</td>\n",
       "      <td>23.45</td>\n",
       "      <td>-73.45</td>\n",
       "      <td>-1.281944</td>\n",
       "      <td>1370</td>\n",
       "    </tr>\n",
       "  </tbody>\n",
       "</table>\n",
       "</div>"
      ],
      "text/plain": [
       "   Latitude (N)  Axial Tilt (deg)  Zenith Angle (deg)  Zenith Angle (rad)  \\\n",
       "0           -90             23.45             -113.45           -1.980076   \n",
       "1           -80             23.45             -103.45           -1.805543   \n",
       "2           -70             23.45              -93.45           -1.631010   \n",
       "3           -60             23.45              -83.45           -1.456477   \n",
       "4           -50             23.45              -73.45           -1.281944   \n",
       "\n",
       "   Solar Constant (W/m^2)  \n",
       "0                    1370  \n",
       "1                    1370  \n",
       "2                    1370  \n",
       "3                    1370  \n",
       "4                    1370  "
      ]
     },
     "execution_count": 24,
     "metadata": {},
     "output_type": "execute_result"
    }
   ],
   "source": [
    "Q_by_lat['Solar Constant (W/m^2)'] = 1370\n",
    "Q_by_lat.head()"
   ]
  },
  {
   "cell_type": "code",
   "execution_count": null,
   "metadata": {},
   "outputs": [],
   "source": [
    "Q_by_lat['q Summer (W/m^2)'] = "
   ]
  }
 ],
 "metadata": {
  "kernelspec": {
   "display_name": "Python 3",
   "language": "python",
   "name": "python3"
  },
  "language_info": {
   "codemirror_mode": {
    "name": "ipython",
    "version": 3
   },
   "file_extension": ".py",
   "mimetype": "text/x-python",
   "name": "python",
   "nbconvert_exporter": "python",
   "pygments_lexer": "ipython3",
   "version": "3.7.7"
  }
 },
 "nbformat": 4,
 "nbformat_minor": 4
}
