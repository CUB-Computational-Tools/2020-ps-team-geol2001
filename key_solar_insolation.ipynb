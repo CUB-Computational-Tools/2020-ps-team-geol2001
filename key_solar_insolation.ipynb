{
 "cells": [
  {
   "cell_type": "markdown",
   "metadata": {},
   "source": [
    "# GEOL 2001: Solar Radiation Lab (Key)\n",
    "\n",
    "#### Written by Abby Eckland, October 2020"
   ]
  },
  {
   "cell_type": "markdown",
   "metadata": {},
   "source": [
    "### Q1: What do you notice about the insolation for the fall and spring equinoxes? Write your observation in one sentence in the cell below.\n",
    "- Answer: The solar insolation values for fall and spring equinoxes are the same."
   ]
  },
  {
   "cell_type": "markdown",
   "metadata": {},
   "source": [
    "### Q2: Was the observation that you made above in Q1 confirmed by the plot? Why or why not?\n",
    "- Answer: Yes. The insolation curves for the fall and spring equinoxes on the plot overlap, meaning their values are the same."
   ]
  },
  {
   "cell_type": "markdown",
   "metadata": {},
   "source": [
    "### Q3: What variable needed to change between the summer and winter solstice insolation calculations? In other words, what controls the insolation at a specific latitude, i.e., between summer and winter months? Hint: see line 5 in the code cell above.\n",
    "- Answer: In summer, the tilt is positive and in winter, the tilt is negative."
   ]
  },
  {
   "cell_type": "markdown",
   "metadata": {},
   "source": [
    "### Q4: Why was the tilt zero for the fall equinox insolation calculation for Boulder? Do we need to repeat the steps above for the spring equinox?\n",
    "- Answer: The tilt is zero for the fall equinox insolation calculation because tilt does not impact solar insolation calculations during the equinoxes. Therefore, we do not need to repeat the same steps for the spring equinox, since the answers will be the same."
   ]
  },
  {
   "cell_type": "markdown",
   "metadata": {},
   "source": [
    "### Q5: List and briefly describe three factors that might impact how much actual solar powered electricity someone gets. Think about the incoming radiation, the panels themselves, and any other things that might impact net electricity production. Be creative!\n",
    "- Answer: Potenial answers include: \n",
    " 1. What direction are the panels oriented? Are they facing north or south?\n",
    " 2. Cloud cover - weather patterns in some areas are more overcast than others.\n",
    " 3. Vegetation or other building blocking sun light outside of what is modelled here.\n",
    " 4. Effectiveness of the panels - the panels will not convert all of the sun's energy to usable energy.\n",
    " 5. Snow cover - in winter these may be even more covered."
   ]
  },
  {
   "cell_type": "markdown",
   "metadata": {},
   "source": [
    "### Q6: Calculate the solar insolation during the summer solstice and equinoxes using the functions defined above."
   ]
  },
  {
   "cell_type": "code",
   "execution_count": null,
   "metadata": {},
   "outputs": [],
   "source": [
    "import numpy as np\n",
    "import pandas as pd\n",
    "import matplotlib.pyplot as plt"
   ]
  },
  {
   "cell_type": "code",
   "execution_count": null,
   "metadata": {},
   "outputs": [],
   "source": [
    "def varying_tilt_winter(tilt):\n",
    "    latitude = np.arange(-90, 100, 10)\n",
    "    zenith = latitude + tilt\n",
    "    zenith_rad = np.radians(zenith)\n",
    "    S = 1370\n",
    "    return S * np.cos(zenith_rad)\n",
    "\n",
    "def varying_tilt_summer(tilt):\n",
    "    latitude = np.arange(-90, 100, 10)\n",
    "    zenith = latitude - tilt\n",
    "    zenith_rad = np.radians(zenith)\n",
    "    S = 1370\n",
    "    return S * np.cos(zenith_rad)\n",
    "\n",
    "def varying_tilt_fall_spring(tilt):\n",
    "    latitude = np.arange(-90, 100, 10)\n",
    "    zenith = latitude\n",
    "    zenith_rad = np.radians(zenith)\n",
    "    S = 1370\n",
    "    return S * np.cos(zenith_rad)"
   ]
  },
  {
   "cell_type": "code",
   "execution_count": null,
   "metadata": {},
   "outputs": [],
   "source": [
    "# set a variable called `tilt_now_summer` equal to the function `varying_tilt_summer`. Then, assign a tilt, 23.45 (now)\n",
    "tilt_now_summer = varying_tilt_summer(tilt = 23.45)\n",
    "# let's check to see that the function worked\n",
    "tilt_now_summer"
   ]
  },
  {
   "cell_type": "code",
   "execution_count": null,
   "metadata": {},
   "outputs": [],
   "source": [
    "# create a new variable for small tilt during the summer\n",
    "tilt_small_summer = varying_tilt_summer(tilt = 22)"
   ]
  },
  {
   "cell_type": "code",
   "execution_count": null,
   "metadata": {},
   "outputs": [],
   "source": [
    "# create a new variable for big tilt during the summer\n",
    "tilt_big_summer = varying_tilt_summer(tilt = 24.5)"
   ]
  },
  {
   "cell_type": "code",
   "execution_count": null,
   "metadata": {},
   "outputs": [],
   "source": [
    "# plot varying summer tilt here\n",
    "latitude = np.arange(-90, 100, 10)\n",
    "\n",
    "fig, ax = plt.subplots(figsize = (10,8))\n",
    "plt.plot(latitude, tilt_now_summer, label = 'Tilt = 23.45', color = 'green')\n",
    "plt.plot(latitude, tilt_small_summer, label = 'Tilt = 22', color = 'red')\n",
    "plt.plot(latitude, tilt_big_summer, label = 'Tilt = 24.5', color = 'purple')\n",
    "plt.legend()\n",
    "plt.title('Summer Solstice Solar Insolation with Varying Axial Tilt', size = 18)\n",
    "plt.xlabel('Latitude ($^\\circ$N)')\n",
    "plt.ylabel('Insolation (W/m$^2$)')\n",
    "plt.xlim(-90, 90)\n",
    "plt.ylim(0, 1400)\n",
    "plt.show()"
   ]
  },
  {
   "cell_type": "code",
   "execution_count": null,
   "metadata": {},
   "outputs": [],
   "source": [
    "# set a variable called `tilt_now_fall_spring` equal to the function `varying_tilt_fall_spring`. Then, assign a tilt, 23.45 (now)\n",
    "tilt_now_fall_spring = varying_tilt_fall_spring(tilt = 23.45)"
   ]
  },
  {
   "cell_type": "code",
   "execution_count": null,
   "metadata": {},
   "outputs": [],
   "source": [
    "# create a new variable for small tilt during the fall/spring\n",
    "tilt_small_fall_spring = varying_tilt_fall_spring(tilt = 22)"
   ]
  },
  {
   "cell_type": "code",
   "execution_count": null,
   "metadata": {},
   "outputs": [],
   "source": [
    "# create a new variable for big tilt during the fall/spring\n",
    "tilt_big_fall_spring = varying_tilt_fall_spring(tilt = 24.5)"
   ]
  },
  {
   "cell_type": "code",
   "execution_count": null,
   "metadata": {},
   "outputs": [],
   "source": [
    "# plot varying fall/spring tilt here\n",
    "fig, ax = plt.subplots(figsize = (10,8))\n",
    "plt.plot(latitude, tilt_now_fall_spring, label = 'Tilt = 23.45', color = 'green')\n",
    "plt.plot(latitude, tilt_small_fall_spring, label = 'Tilt = 22', color = 'red')\n",
    "plt.plot(latitude, tilt_big_fall_spring, label = 'Tilt = 24.5', color = 'purple')\n",
    "plt.legend()\n",
    "plt.title('Equinox Solar Insolation with Varying Axial Tilt', size = 18)\n",
    "plt.xlabel('Latitude ($^\\circ$N)')\n",
    "plt.ylabel('Insolation (W/m$^2$)')\n",
    "plt.xlim(-90, 90)\n",
    "plt.ylim(0, 1400)\n",
    "plt.show()"
   ]
  },
  {
   "cell_type": "markdown",
   "metadata": {},
   "source": [
    "### Q7: In one to two sentences, describe the changes in solar flux between the latitude range -30$^\\circ$ to 30$^\\circ$N and the range 60$^\\circ$ to 90$^\\circ$(N or S) latitude among the three tilts.\n",
    "- Answer: For the latitude range of -30$^\\circ$ to 30$^\\circ$N, in the NH in the **winter**, the smallest tilt (22) produced the highest insolations out of any tilt value. Contrastingly, a tilt of 22 produced the smallest insolation values in the SH during the **winter**. For **summer** in the NH with a tilt of 22, the opposite is true: an axial tilt of 22 produced the smallest insolation values, but in the SH in the **summer**, a tilt of 22 produced the largest insolation values. \n",
    "\n",
    "- For the latitude range 60$^\\circ$ to 90$^\\circ$(N or S), the same trend as above exists, but the insolation varies more drastically between each tilt."
   ]
  },
  {
   "cell_type": "markdown",
   "metadata": {},
   "source": [
    "### Q8: What part of the earth system might these affect most strongly and at what latitude?\n",
    "- Answer: Variations in axial tilt are felt more strongly at the poles than in the mid to low latitudes. This is evident due to the larger variation in solar insolation between the different tilts at higher latitudes (60$^\\circ$ to 90$^\\circ$(N or S))."
   ]
  },
  {
   "cell_type": "markdown",
   "metadata": {},
   "source": [
    "### Q9: Can you think of any global climate events that the earth's tilt might be related to? Explain your answers.\n",
    "- Answer: Changes in orbital patterns can impact ice ages and glacier growth. These orbital patterns are called Milankovitch cycles, which include variations in earth's eccentricity, precession, and obliquity."
   ]
  },
  {
   "cell_type": "code",
   "execution_count": null,
   "metadata": {},
   "outputs": [],
   "source": []
  }
 ],
 "metadata": {
  "kernelspec": {
   "display_name": "Python 3",
   "language": "python",
   "name": "python3"
  },
  "language_info": {
   "codemirror_mode": {
    "name": "ipython",
    "version": 3
   },
   "file_extension": ".py",
   "mimetype": "text/x-python",
   "name": "python",
   "nbconvert_exporter": "python",
   "pygments_lexer": "ipython3",
   "version": "3.7.7"
  }
 },
 "nbformat": 4,
 "nbformat_minor": 4
}
