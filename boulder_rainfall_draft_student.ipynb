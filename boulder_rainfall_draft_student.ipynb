{
 "cells": [
  {
   "cell_type": "markdown",
   "metadata": {},
   "source": [
    "# GEOL 2001: Boulder Creek Rainfall Data\n",
    "### Score (80% content, 20% neatness):   &nbsp; &nbsp; &nbsp; /80 &nbsp; +  &nbsp; &nbsp; &nbsp;  /20"
   ]
  },
  {
   "cell_type": "markdown",
   "metadata": {},
   "source": [
    "## Introduction\n",
    "\n",
    "Rain is a fundamental part of the water budget, and rainfall arrives in patterns that vary from time to time and from place to place. If you or someone you know lived in Boulder in 2013, you may recall the 2013 Colorado Floods. From September 11 to 15, a record amount of rain fell in Boulder County. In this lab, we will examine real data to explore local precipitation patterns and to appreciate just how incredible this flood event was.\n",
    "\n",
    "So far in this course, we've learned how to use Excel to generate, manipulate, and visualize data. Proficiency in Excel is a very important skill to have as a scientist, but there is also a rising demand for geologists to be literate in scientific coding. Therefore, this lab will introduce you to the Python programming language. As usual, our lab exercise will begin in Excel, but this time the first thing we'll learn how to do is save Excel data in a format that can easily be imported and read in a programming language. "
   ]
  },
  {
   "cell_type": "markdown",
   "metadata": {},
   "source": [
    "## Learning goals\n",
    "By the end of this lab, students will be able to:\n",
    "- Import data from Excel into Python\n",
    "- Perform basic indexing and operations on dataframes in Python \n",
    "- Make data visualizations in Python\n",
    "- Explain the concepts of \"average\" and \"standard deviation\"\n",
    "- Discuss temporal precipitation patterns in Boudler, CO\n",
    "- Interpret, compare, and contrast precipitation data from multiple locations"
   ]
  },
  {
   "cell_type": "markdown",
   "metadata": {},
   "source": [
    "### 1. Import data (5 pts)\n",
    "\n",
    ">You should have access to a .xlsx file named `Lab5Excel_Rainfalldata.xlsx`. Open this file in Excel as usual, and you will see that it contains daily rainfall records. For the purpose of this lab, we're interested in both the annual rainfall and monthly rainfall records. We can convert our large amount of daily data (over 40,000 records!) into annual and monthly totals by creating pivot tables in Excel. \n",
    "\n",
    ">Create two pivot tables in Excel: one to sum the amount of precipitation for each year of record, and one to sum the amount of precipitation per month for each year of record. Make sure these pivot tables are stored on separate sheets in Excel. \n",
    "\n",
    ">For each pivot table, go to `File > Save As`. Change the filename to either `yearly_totals` or `monthly_totals.` From the dropdown menu, choose `CSV UTF-8 (*.csv)` as the filetype to save as.\n",
    "\n",
    ">Upload your `yearly_totals.csv` and `monthly_totals.csv` to whichever platform is hosting your Jupyter Notebook.\n",
    "\n",
    ">Excellent! Now that our data is in `.csv` format, Python will be able to read it. We'll use a Python library called `pandas` to read our data; you'll see that the data is output in table ('dataframe') format, which looks similar to Excel."
   ]
  },
  {
   "cell_type": "code",
   "execution_count": null,
   "metadata": {},
   "outputs": [],
   "source": [
    "# import libraries needed for today's lab\n",
    "\n",
    "import numpy as np\n",
    "import matplotlib.pyplot as plt\n",
    "import pandas as pd"
   ]
  },
  {
   "cell_type": "markdown",
   "metadata": {},
   "source": [
    "### A few words on libraries\n",
    "\n",
    "The code cell above import three Python \"libraries\" that we'll use in today's exercise. Libraries contain pre-made functions that you can use to perform different operations. Today we'll use:\n",
    "\n",
    "`numpy`: great for basic mathematical operations, such as calculating the mean or taking square roots. We've imported this library under the alias `np`, so in order to access its functions you must first type `np.`\n",
    "\n",
    "`matplotlib`: great for creating plots to visualize your data. We've imported this library under the alias `plt`, so in order to access its functions you must first type `plt.`\n",
    "\n",
    "`pandas`: creates \"dataframes\" which are a bit like an Excel worksheet. They are structures that hold data in rows and columns, and you can give your rows and columns names to help make the data easier to interpret. We've imported this library under the alias `pd`, so in order to access its functions you must first type `pd.`"
   ]
  },
  {
   "cell_type": "markdown",
   "metadata": {},
   "source": [
    "### 2. Read in csv files (2 pts)\n",
    "> Read in yearly and monthly data as a pandas dataframe. Be sure to specify the full file path!"
   ]
  },
  {
   "cell_type": "code",
   "execution_count": null,
   "metadata": {},
   "outputs": [],
   "source": [
    "# EXAMPLE: reading in yearly data\n",
    "yearly_data = pd.read_csv('data/yearly_totals.csv', header = 0)\n",
    "\n",
    "# YOUR TURN: read in monthly data using `header = 0` and `skiprows = 1`\n"
   ]
  },
  {
   "cell_type": "markdown",
   "metadata": {},
   "source": [
    "> We can use the pandas function `.head()` to inspect our dataframes. We'll focus on the `yearly_data` in this first part of our lab."
   ]
  },
  {
   "cell_type": "code",
   "execution_count": null,
   "metadata": {},
   "outputs": [],
   "source": [
    "# EXAMPLE: inspecting a dataframe using .head()\n",
    "yearly_data.head()"
   ]
  },
  {
   "cell_type": "markdown",
   "metadata": {},
   "source": [
    "### 3. Add column and inspect dataframe (1 pt)\n",
    "> Our yearly data looks pretty good! However, it's better practice to use metric units. We can add a new column to our dataframe by performing an operation on a pre-exisiting column and assigning the outcome to a new column with a name of our choosing. Here, we'll add a column named `Sum of Precip (mm)` by performing a unit conversion from inches to millimeters on the existing `Sum of Precip (inches)` column."
   ]
  },
  {
   "cell_type": "code",
   "execution_count": null,
   "metadata": {},
   "outputs": [],
   "source": [
    "# EXAMPLE: There are 25.4 mm in 1 inch, so we multiply the \"inches\" column by the conversion factor to make a new column in mm\n",
    "yearly_data['Sum of Precip (mm)'] = yearly_data['Sum of Precip (inches)'] * 25.4\n",
    "\n",
    "# YOUR TURN: inspect our dataframe again using .head() to make sure the changes look right\n"
   ]
  },
  {
   "cell_type": "markdown",
   "metadata": {},
   "source": [
    "### 4. Summary statistics (3 pts)\n",
    ">Everything looks good so far. Python's `numpy` library makes it easy to calculate summary statistics. Below, calculate the mean, minimum, maximum, and standard deviation for `Sum of Precip (mm)` from the `yearly_data` dataframe. Add these as columns to your dataframe, as well."
   ]
  },
  {
   "cell_type": "code",
   "execution_count": null,
   "metadata": {},
   "outputs": [],
   "source": [
    "# EXAMPLE: we use np.mean() to calculate the mean\n",
    "yearly_data['Mean (mm)'] = np.mean(yearly_data['Sum of Precip (mm)'])\n",
    "\n",
    "# YOUR TURN: use np.min(), np.max(), and np.std() to make columns for the minimum, maximum, and standard deviation for our data\n",
    "\n",
    "\n",
    "\n",
    "\n",
    "# check out the dataframe\n",
    "yearly_data.head()"
   ]
  },
  {
   "cell_type": "markdown",
   "metadata": {},
   "source": [
    "### 5. Interpreting a plot (10 pts)\n",
    "> Time to plot! This step will introduce you to the basic ingredients of a Python plot. In the cell below, we'll create a plot of total annual rainfall against year. Like all plots, ours will need a title, axis labels, and  legend. We'll also give it some extra bells and whistles, like adding a line to represent the average annual rainfall and adjusting the range of the y-axis for visual clarity.\n",
    "\n",
    "> Be sure to answer the two questions at the bottom of this section."
   ]
  },
  {
   "cell_type": "code",
   "execution_count": null,
   "metadata": {},
   "outputs": [],
   "source": [
    "# EXAMPLE: create a plot by using the function plt.scatter() and assigning the year as the x data and total precip as the y data\n",
    "\n",
    "plt.figure(figsize = (10, 6))\n",
    "plt.scatter(yearly_data['Year'], yearly_data['Sum of Precip (mm)'])\n",
    "plt.ylim([0, 1000])\n",
    "plt.hlines(y = 476, xmin = 1897, xmax = 2014, linestyle = '--', label = 'yearly average')\n",
    "plt.xlabel('Year')\n",
    "plt.ylabel('Total precipitation (mm)')\n",
    "plt.title('Total annual precipitation for Boulder, CO')\n",
    "plt.legend()\n",
    "plt.show()"
   ]
  },
  {
   "cell_type": "markdown",
   "metadata": {},
   "source": [
    "> You can \"comment out\" lines of code by typing `#` at the beginning of the line. This makes the code inactive and allows you to experiment with making changes to your code without actually deleting anything that you've already written. Try \"commenting out\" lines of code in the cell above, and re-run the cell to see the changes each time. Observe how each line contributes something unique to the plot. For example, what changes if you comment out the line `plt.legend()`? Make sure you uncomment your code before moving on so that the plot remains fully intact."
   ]
  },
  {
   "cell_type": "code",
   "execution_count": null,
   "metadata": {},
   "outputs": [],
   "source": [
    "# YOUR TURN: convert this cell to markdown and type your observations here"
   ]
  },
  {
   "cell_type": "markdown",
   "metadata": {},
   "source": [
    "> Now, make two observations about the data shown in this plot."
   ]
  },
  {
   "cell_type": "code",
   "execution_count": null,
   "metadata": {},
   "outputs": [],
   "source": [
    "# YOUR TURN: convert this cell to markdown and type your observations here"
   ]
  },
  {
   "cell_type": "markdown",
   "metadata": {},
   "source": [
    "### 6. Creating and interpreting a plot (15 pts)\n",
    "> Now we want to make a plot of 'residuals.' This will illustrate for us how each year's rainfall varies from the average. To do this, we'll need to subtract the average rainfall from the actual rainfall for each year. Make a new column in your dataframe called `Residuals (mm)`. As before, we can create this column by performing operations on existing columns - in this case, we'll subtract `Mean (mm)` from `Sum of Precip (mm)`.\n",
    "\n",
    "> After we've calculated the residuals, we'll be able to plot residuals against year. This will allow us to see which years had the largest variation away from the 'average' rainfall amount. \n",
    "\n",
    "> Be sure to answer the question at the bottom of this section."
   ]
  },
  {
   "cell_type": "code",
   "execution_count": null,
   "metadata": {},
   "outputs": [],
   "source": [
    "# create a residuals column\n",
    "yearly_data['Residuals (mm)'] = yearly_data['Sum of Precip (mm)'] - yearly_data['Mean (mm)']\n",
    "\n",
    "# check it out \n",
    "yearly_data.head()"
   ]
  },
  {
   "cell_type": "markdown",
   "metadata": {},
   "source": [
    "> Great, time to plot again! This time, we want to plot annual residuals against the year. Use the skeleton provided below, along with the template provided by our first plotting exercise, to create another plot."
   ]
  },
  {
   "cell_type": "code",
   "execution_count": null,
   "metadata": {},
   "outputs": [],
   "source": [
    "# YOUR TURN\n",
    "\n",
    "# set figure size\n",
    "plt.figure(figsize = (10, 6))\n",
    "\n",
    "# create plot\n",
    "# plt.scatter()\n",
    "\n",
    "# set y limits from -500 to 500\n",
    "# plt.ylim([])\n",
    "\n",
    "# make two horizontal lines, one at y = 115 and one at y = -115, to represent the bounds of one standard deviation\n",
    "# give one of these lines a label that will show up in the legend\n",
    "# plt.hlines()\n",
    "# plt.hlines()\n",
    "\n",
    "# make x and y labels, a legend, and a title\n",
    "# plt.xlabel()\n",
    "# plt.ylabel()\n",
    "# plt.title()\n",
    "# plt.legend()\n",
    "\n",
    "# call plt.show() to show the plot\n",
    "plt.show()"
   ]
  },
  {
   "cell_type": "markdown",
   "metadata": {},
   "source": [
    "> Make two observations about this plot. Type your answers below."
   ]
  },
  {
   "cell_type": "code",
   "execution_count": null,
   "metadata": {},
   "outputs": [],
   "source": [
    "# YOUR TURN: convert this cell to markdown and type your answers here"
   ]
  },
  {
   "cell_type": "markdown",
   "metadata": {},
   "source": [
    "### 7. Manipulating monthly data (12 pts)\n",
    "> We now have a sense for the variation in rainfall that Boulder receives on an annual basis, and we can see from our plots that 2013 was a year of extraordinarily high rainfall - the highest in 117 years of records! But there was something else unusual about the 2013 flood: the <i>timing</i> of the event. To illustrate what I mean by this, we'll make another plot. This one will help us to visualize the temporal pattern of rainfall throughout a typical year in Boulder. \n",
    "\n",
    "> This part of the lab will use the second dataset that we imported, which we saved in a dataframe called `monthly_data`. Before we can plot, we need to make some modifications to our `monthly_data` dataframe."
   ]
  },
  {
   "cell_type": "code",
   "execution_count": null,
   "metadata": {},
   "outputs": [],
   "source": [
    "# check out the monthly_data\n",
    "monthly_data.head()"
   ]
  },
  {
   "cell_type": "markdown",
   "metadata": {},
   "source": [
    "> Yikes! There are two things we should observe here: first of all, the measurements are in inches again. This time, we <i>won't</i> convert to millimeters, because we'll end this lab with a comparison of rainfall in another city that's also reported in inches. In order to make the comparison, we need the units to match on both datasets.\n",
    "\n",
    "> Another problem here is that the columns aren't very easy to read. We know we're looking at monthly data, so let's rename our columns with the names of the months."
   ]
  },
  {
   "cell_type": "code",
   "execution_count": null,
   "metadata": {},
   "outputs": [],
   "source": [
    "# rename columns\n",
    "\n",
    "monthly_data.columns = ['Year', \n",
    "                        'Jan', \n",
    "                        'Feb', \n",
    "                        'Mar', \n",
    "                        'Apr', \n",
    "                        'May', \n",
    "                        'Jun', \n",
    "                        'Jul', \n",
    "                        'Aug', \n",
    "                        'Sep', \n",
    "                        'Oct', \n",
    "                        'Nov', \n",
    "                        'Dec']\n",
    "\n",
    "# check it out\n",
    "\n",
    "monthly_data.head()"
   ]
  },
  {
   "cell_type": "markdown",
   "metadata": {},
   "source": [
    "> Great, now we're ready to start making a visualization of yearly precipitation pattern in Boulder. In order to do this, we need to find monthly precipitation averages and standard deviations. We'll do this by using `numpy` operations on our `monthly_data` dataframe."
   ]
  },
  {
   "cell_type": "code",
   "execution_count": null,
   "metadata": {},
   "outputs": [],
   "source": [
    "# EXAMPLE: calculating january average\n",
    "jan_avg = np.mean(monthly_data['Jan'])\n",
    "\n",
    "# YOUR TURN: calculate average for each remaining month\n",
    "\n",
    "\n",
    "\n",
    "\n",
    "\n",
    "\n",
    "\n",
    "\n",
    "\n",
    "\n",
    "\n",
    "\n",
    "# EXAMPLE: calculate january standard deviation\n",
    "jan_std = np.std(monthly_data['Jan'])\n",
    "\n",
    "# YOUR TURN: calculate standard deviation for each remaining month\n",
    "\n",
    "\n",
    "\n",
    "\n",
    "\n",
    "\n",
    "\n",
    "\n",
    "\n",
    "\n"
   ]
  },
  {
   "cell_type": "markdown",
   "metadata": {},
   "source": [
    "### 8. Plotting and interpreting monthly data (22 pts)\n",
    "> Excellent, it's now time to make our figure. Fill in the skeleton below to create a plot.\n",
    "\n",
    "> Be sure to answer the question at the bottom of this section."
   ]
  },
  {
   "cell_type": "code",
   "execution_count": null,
   "metadata": {},
   "outputs": [],
   "source": [
    "# YOUR TURN\n",
    "\n",
    "# create figure and axis\n",
    "plt.figure(figsize = (10, 6))\n",
    "\n",
    "# create bar chart with the monthly standard deviation as the y-error\n",
    "# repeat for each month\n",
    "plt.bar('Jan', jan_avg, yerr = jan_std, color = 'orange')\n",
    "\n",
    "\n",
    "\n",
    "\n",
    "\n",
    "\n",
    "\n",
    "\n",
    "\n",
    "\n",
    "\n",
    "\n",
    "# make a ylabel and title\n",
    "# plt.ylabel()\n",
    "# plt.title()\n",
    "\n",
    "# call plt.show() to show the plot\n",
    "plt.show()"
   ]
  },
  {
   "cell_type": "markdown",
   "metadata": {},
   "source": [
    "> Make two observations about this plot. Is there anything unusual about the timing of the September 2013 flood? Type your answers below."
   ]
  },
  {
   "cell_type": "code",
   "execution_count": null,
   "metadata": {},
   "outputs": [],
   "source": [
    "# YOUR TURN: convert this cell to markdown and type answers here"
   ]
  },
  {
   "cell_type": "markdown",
   "metadata": {},
   "source": [
    "### Data comparison (10 pts)\n",
    "> Cool plot! We now have visual representations of how much precipitation Boulder has received over the last 117 years, and how that percipitation tends to be distributed throughout the year. The last thing we want to do is consider how Boulder differs from other places in the United States. As an example, we'll look at some data from Seattle.\n",
    "\n",
    "> Be sure to answer the question at the bottom of this section.\n",
    "\n",
    "<img src=\"data/seattle_rainfall.png\" width = 500>"
   ]
  },
  {
   "cell_type": "markdown",
   "metadata": {},
   "source": [
    "> Make two comparisons between this plot from Seattle and our similar plot from Boulder. How does the temporal pattern of rainfall vary? How about variation in monthly rainfall? Think about the geologic settings of these two cities. What environmental factors might be impacting the precipitation patterns in these two cities?"
   ]
  },
  {
   "cell_type": "code",
   "execution_count": null,
   "metadata": {},
   "outputs": [],
   "source": [
    "# YOUR TURN: convert this cell to markdown and type your answer here."
   ]
  },
  {
   "cell_type": "markdown",
   "metadata": {},
   "source": [
    "## Congratulations, you made it to the end!"
   ]
  }
 ],
 "metadata": {
  "kernelspec": {
   "display_name": "Python 3",
   "language": "python",
   "name": "python3"
  },
  "language_info": {
   "codemirror_mode": {
    "name": "ipython",
    "version": 3
   },
   "file_extension": ".py",
   "mimetype": "text/x-python",
   "name": "python",
   "nbconvert_exporter": "python",
   "pygments_lexer": "ipython3",
   "version": "3.7.7"
  }
 },
 "nbformat": 4,
 "nbformat_minor": 4
}
