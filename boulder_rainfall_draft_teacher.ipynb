{
 "cells": [
  {
   "cell_type": "markdown",
   "metadata": {},
   "source": [
    "# GEOL 2001: Boulder Creek Rainfall Data"
   ]
  },
  {
   "cell_type": "markdown",
   "metadata": {},
   "source": [
    "## Introduction\n",
    "\n",
    "Rain is a fundamental part of the water budget, and rainfall arrives in patterns that vary from time to time and from place to place. If you or someone you know lived in Boulder in 2013, you may recall the 2013 Colorado Floods. From September 11 to 15, a record amount of rain fell in Boulder County. In this lab, we will examine real data to explore local precipitation patterns and to appreciate just how incredible this flood event was.\n",
    "\n",
    "So far in this course, we've learned how to use Excel to generate, manipulate, and visualize data. Proficiency in Excel is a very important skill to have as a scientist, but there is also a rising demand for geologists to be literate in scientific coding. Therefore, this lab will introduce you to the Python programming language. As usual, our lab exercise will begin in Excel, but this time the first thing we'll learn how to do is save Excel data in a format that can easily be imported and read in a programming language. "
   ]
  },
  {
   "cell_type": "markdown",
   "metadata": {},
   "source": [
    "## Learning goals\n",
    "By the end of this lab, students will be able to:\n",
    "- Import data from Excel into Python\n",
    "- Perform basic indexing and operations on dataframes in Python \n",
    "- Make data visualizations in Python\n",
    "- Explain the concepts of \"average\" and \"standard deviation\"\n",
    "- Discuss temporal precipitation patterns in Boudler, CO\n",
    "- Interpret, compare, and contrast precipitation data from multiple locations"
   ]
  },
  {
   "cell_type": "markdown",
   "metadata": {},
   "source": [
    "## Part 1: Importing data\n",
    "\n",
    "You should have access to a .xlsx file named `Lab5Excel_Rainfalldata.xlsx`. Open this file in Excel as usual, and you will see that it contains daily rainfall records. For the purpose of this lab, we're interested in both the annual rainfall and monthly rainfall records. We can convert our large amount of daily data (over 40,000 records!) into annual and monthly totals by creating pivot tables in Excel. \n",
    "\n",
    "Create two pivot tables in Excel: one to sum the amount of precipitation for each year of record, and one to sum the amount of precipitation per month for each year of record. Make sure these pivot tables are stored on separate sheets in Excel. \n",
    "\n",
    "For each pivot table, go to `File > Save As`. Change the filename to either `yearly_totals` or `monthly_totals.` From the dropdown menu, choose `CSV UTF-8 (*.csv)` as the filetype to save as.\n",
    "\n",
    "Upload your `yearly_totals.csv` and `monthly_totals.csv` to whichever platform is hosting your Jupyter Notebook.\n",
    "\n",
    "Excellent! Now that our data is in `.csv` format, Python will be able to read it. We'll use a Python library called `pandas` to read our data; you'll see that the data is output in table ('dataframe') format, which looks similar to Excel."
   ]
  },
  {
   "cell_type": "code",
   "execution_count": 1,
   "metadata": {},
   "outputs": [],
   "source": [
    "# import libraries needed for today's lab\n",
    "\n",
    "import numpy as np\n",
    "import matplotlib.pyplot as plt\n",
    "import pandas as pd"
   ]
  },
  {
   "cell_type": "markdown",
   "metadata": {},
   "source": [
    "### A few words on libraries\n",
    "\n",
    "The code cell above import three Python \"libraries\" that we'll use in today's exercise. Libraries contain pre-made functions that you can use to perform different operations. Today we'll use:\n",
    "\n",
    "`numpy`: great for basic mathematical operations, such as calculating the mean or taking square roots. We've imported this library under the alias `np`, so in order to access its functions you must first type `np.`\n",
    "\n",
    "`matplotlib`: great for creating plots to visualize your data. We've imported this library under the alias `plt`, so in order to access its functions you must first type `plt.`\n",
    "\n",
    "`pandas`: creates \"dataframes\" which are a bit like an Excel worksheet. They are structures that hold data in rows and columns, and you can give your rows and columns names to help make the data easier to interpret. We've imported this library under the alias `pd`, so in order to access its functions you must first type `pd.`"
   ]
  },
  {
   "cell_type": "code",
   "execution_count": 2,
   "metadata": {},
   "outputs": [],
   "source": [
    "# read in yearly and monthly data as a pandas dataframe\n",
    "# be sure to specifiy the full file path!\n",
    "\n",
    "yearly_data = pd.read_csv('data/yearly_totals.csv', header = 0)\n",
    "monthly_data = pd.read_csv('data/monthly_totals.csv', header = 0, skiprows = 1)"
   ]
  },
  {
   "cell_type": "code",
   "execution_count": 3,
   "metadata": {},
   "outputs": [
    {
     "data": {
      "text/html": [
       "<div>\n",
       "<style scoped>\n",
       "    .dataframe tbody tr th:only-of-type {\n",
       "        vertical-align: middle;\n",
       "    }\n",
       "\n",
       "    .dataframe tbody tr th {\n",
       "        vertical-align: top;\n",
       "    }\n",
       "\n",
       "    .dataframe thead th {\n",
       "        text-align: right;\n",
       "    }\n",
       "</style>\n",
       "<table border=\"1\" class=\"dataframe\">\n",
       "  <thead>\n",
       "    <tr style=\"text-align: right;\">\n",
       "      <th></th>\n",
       "      <th>Year</th>\n",
       "      <th>Sum of Precip (inches)</th>\n",
       "    </tr>\n",
       "  </thead>\n",
       "  <tbody>\n",
       "    <tr>\n",
       "      <th>0</th>\n",
       "      <td>1897</td>\n",
       "      <td>15.75</td>\n",
       "    </tr>\n",
       "    <tr>\n",
       "      <th>1</th>\n",
       "      <td>1898</td>\n",
       "      <td>15.95</td>\n",
       "    </tr>\n",
       "    <tr>\n",
       "      <th>2</th>\n",
       "      <td>1899</td>\n",
       "      <td>13.93</td>\n",
       "    </tr>\n",
       "    <tr>\n",
       "      <th>3</th>\n",
       "      <td>1900</td>\n",
       "      <td>16.88</td>\n",
       "    </tr>\n",
       "    <tr>\n",
       "      <th>4</th>\n",
       "      <td>1901</td>\n",
       "      <td>13.85</td>\n",
       "    </tr>\n",
       "  </tbody>\n",
       "</table>\n",
       "</div>"
      ],
      "text/plain": [
       "   Year   Sum of Precip (inches)\n",
       "0   1897                   15.75\n",
       "1   1898                   15.95\n",
       "2   1899                   13.93\n",
       "3   1900                   16.88\n",
       "4   1901                   13.85"
      ]
     },
     "execution_count": 3,
     "metadata": {},
     "output_type": "execute_result"
    }
   ],
   "source": [
    "# we can use the pandas function .head() to inspect our dataframes\n",
    "# we'll use the yearly data first\n",
    "\n",
    "yearly_data.head()"
   ]
  },
  {
   "cell_type": "markdown",
   "metadata": {},
   "source": [
    "Our yearly data looks pretty good! However, it's better practice to use metric units. Add a column named `Sum of Precip (mm)`. You can do this by performing a unit conversion from inches to millimeters on the existing `Sum of Precip (inches)` column."
   ]
  },
  {
   "cell_type": "code",
   "execution_count": 4,
   "metadata": {},
   "outputs": [
    {
     "data": {
      "text/html": [
       "<div>\n",
       "<style scoped>\n",
       "    .dataframe tbody tr th:only-of-type {\n",
       "        vertical-align: middle;\n",
       "    }\n",
       "\n",
       "    .dataframe tbody tr th {\n",
       "        vertical-align: top;\n",
       "    }\n",
       "\n",
       "    .dataframe thead th {\n",
       "        text-align: right;\n",
       "    }\n",
       "</style>\n",
       "<table border=\"1\" class=\"dataframe\">\n",
       "  <thead>\n",
       "    <tr style=\"text-align: right;\">\n",
       "      <th></th>\n",
       "      <th>Year</th>\n",
       "      <th>Sum of Precip (inches)</th>\n",
       "      <th>Sum of Precip (mm)</th>\n",
       "    </tr>\n",
       "  </thead>\n",
       "  <tbody>\n",
       "    <tr>\n",
       "      <th>0</th>\n",
       "      <td>1897</td>\n",
       "      <td>15.75</td>\n",
       "      <td>400.050</td>\n",
       "    </tr>\n",
       "    <tr>\n",
       "      <th>1</th>\n",
       "      <td>1898</td>\n",
       "      <td>15.95</td>\n",
       "      <td>405.130</td>\n",
       "    </tr>\n",
       "    <tr>\n",
       "      <th>2</th>\n",
       "      <td>1899</td>\n",
       "      <td>13.93</td>\n",
       "      <td>353.822</td>\n",
       "    </tr>\n",
       "    <tr>\n",
       "      <th>3</th>\n",
       "      <td>1900</td>\n",
       "      <td>16.88</td>\n",
       "      <td>428.752</td>\n",
       "    </tr>\n",
       "    <tr>\n",
       "      <th>4</th>\n",
       "      <td>1901</td>\n",
       "      <td>13.85</td>\n",
       "      <td>351.790</td>\n",
       "    </tr>\n",
       "  </tbody>\n",
       "</table>\n",
       "</div>"
      ],
      "text/plain": [
       "   Year   Sum of Precip (inches)  Sum of Precip (mm)\n",
       "0   1897                   15.75             400.050\n",
       "1   1898                   15.95             405.130\n",
       "2   1899                   13.93             353.822\n",
       "3   1900                   16.88             428.752\n",
       "4   1901                   13.85             351.790"
      ]
     },
     "execution_count": 4,
     "metadata": {},
     "output_type": "execute_result"
    }
   ],
   "source": [
    "# add a new column to our dataframe\n",
    "# there are 25.4 mm in 1 inch\n",
    "\n",
    "yearly_data['Sum of Precip (mm)'] = yearly_data['Sum of Precip (inches)'] * 25.4\n",
    "\n",
    "# inspect our dataframe again to make sure the changes look right\n",
    "\n",
    "yearly_data.head()"
   ]
  },
  {
   "cell_type": "markdown",
   "metadata": {},
   "source": [
    "Everything looks good so far. Python's `numpy` library makes it easy to calculate summary statistics. Below, calculate the mean, minimum, maximum, and standard deviation for `Sum of Precip (mm)` from your `yearly_data` dataframe. Add these as columns to your dataframe, as well."
   ]
  },
  {
   "cell_type": "code",
   "execution_count": 5,
   "metadata": {},
   "outputs": [
    {
     "data": {
      "text/html": [
       "<div>\n",
       "<style scoped>\n",
       "    .dataframe tbody tr th:only-of-type {\n",
       "        vertical-align: middle;\n",
       "    }\n",
       "\n",
       "    .dataframe tbody tr th {\n",
       "        vertical-align: top;\n",
       "    }\n",
       "\n",
       "    .dataframe thead th {\n",
       "        text-align: right;\n",
       "    }\n",
       "</style>\n",
       "<table border=\"1\" class=\"dataframe\">\n",
       "  <thead>\n",
       "    <tr style=\"text-align: right;\">\n",
       "      <th></th>\n",
       "      <th>Year</th>\n",
       "      <th>Sum of Precip (inches)</th>\n",
       "      <th>Sum of Precip (mm)</th>\n",
       "      <th>Minimum (mm)</th>\n",
       "      <th>Maximum (mm)</th>\n",
       "      <th>Mean (mm)</th>\n",
       "      <th>Standard deviation (mm)</th>\n",
       "    </tr>\n",
       "  </thead>\n",
       "  <tbody>\n",
       "    <tr>\n",
       "      <th>0</th>\n",
       "      <td>1897</td>\n",
       "      <td>15.75</td>\n",
       "      <td>400.050</td>\n",
       "      <td>220.726</td>\n",
       "      <td>867.41</td>\n",
       "      <td>475.670966</td>\n",
       "      <td>115.565467</td>\n",
       "    </tr>\n",
       "    <tr>\n",
       "      <th>1</th>\n",
       "      <td>1898</td>\n",
       "      <td>15.95</td>\n",
       "      <td>405.130</td>\n",
       "      <td>220.726</td>\n",
       "      <td>867.41</td>\n",
       "      <td>475.670966</td>\n",
       "      <td>115.565467</td>\n",
       "    </tr>\n",
       "    <tr>\n",
       "      <th>2</th>\n",
       "      <td>1899</td>\n",
       "      <td>13.93</td>\n",
       "      <td>353.822</td>\n",
       "      <td>220.726</td>\n",
       "      <td>867.41</td>\n",
       "      <td>475.670966</td>\n",
       "      <td>115.565467</td>\n",
       "    </tr>\n",
       "    <tr>\n",
       "      <th>3</th>\n",
       "      <td>1900</td>\n",
       "      <td>16.88</td>\n",
       "      <td>428.752</td>\n",
       "      <td>220.726</td>\n",
       "      <td>867.41</td>\n",
       "      <td>475.670966</td>\n",
       "      <td>115.565467</td>\n",
       "    </tr>\n",
       "    <tr>\n",
       "      <th>4</th>\n",
       "      <td>1901</td>\n",
       "      <td>13.85</td>\n",
       "      <td>351.790</td>\n",
       "      <td>220.726</td>\n",
       "      <td>867.41</td>\n",
       "      <td>475.670966</td>\n",
       "      <td>115.565467</td>\n",
       "    </tr>\n",
       "  </tbody>\n",
       "</table>\n",
       "</div>"
      ],
      "text/plain": [
       "   Year   Sum of Precip (inches)  Sum of Precip (mm)  Minimum (mm)  \\\n",
       "0   1897                   15.75             400.050       220.726   \n",
       "1   1898                   15.95             405.130       220.726   \n",
       "2   1899                   13.93             353.822       220.726   \n",
       "3   1900                   16.88             428.752       220.726   \n",
       "4   1901                   13.85             351.790       220.726   \n",
       "\n",
       "   Maximum (mm)   Mean (mm)  Standard deviation (mm)  \n",
       "0        867.41  475.670966               115.565467  \n",
       "1        867.41  475.670966               115.565467  \n",
       "2        867.41  475.670966               115.565467  \n",
       "3        867.41  475.670966               115.565467  \n",
       "4        867.41  475.670966               115.565467  "
      ]
     },
     "execution_count": 5,
     "metadata": {},
     "output_type": "execute_result"
    }
   ],
   "source": [
    "# get summary statistics\n",
    "# we use the indexing [0:-1] to exclude the final row in the dataframe, since this row contains grand totals\n",
    "\n",
    "yearly_data['Minimum (mm)'] = np.min(yearly_data['Sum of Precip (mm)'])\n",
    "yearly_data['Maximum (mm)'] = np.max(yearly_data['Sum of Precip (mm)'])\n",
    "yearly_data['Mean (mm)'] = np.mean(yearly_data['Sum of Precip (mm)'])\n",
    "yearly_data['Standard deviation (mm)'] = np.std(yearly_data['Sum of Precip (mm)'])\n",
    "\n",
    "# check out the dataframe\n",
    "\n",
    "yearly_data.head()"
   ]
  },
  {
   "cell_type": "markdown",
   "metadata": {},
   "source": [
    "Time to plot! First we'll make one plot of the total annual rainfall versus year. Then we'll calculate the residuals for each year and plot that as well. This will allow us to inspect which years had the highest variation away from the 'average' rainfall."
   ]
  },
  {
   "cell_type": "code",
   "execution_count": 6,
   "metadata": {},
   "outputs": [
    {
     "data": {
      "image/png": "[encoded data removed]",
      "text/plain": [
       "<Figure size 720x432 with 1 Axes>"
      ]
     },
     "metadata": {
      "needs_background": "light"
     },
     "output_type": "display_data"
    }
   ],
   "source": [
    "# plot total annual rainfall against year\n",
    "# add a horizontal line at y = 476 to illustrate the average annual rainfall\n",
    "\n",
    "# set figure size\n",
    "\n",
    "plt.figure(figsize = (10, 6))\n",
    "\n",
    "# create plot\n",
    "\n",
    "plt.scatter(yearly_data['Year '], yearly_data['Sum of Precip (mm)'])\n",
    "plt.ylim([0, 1000])\n",
    "plt.hlines(y = 476, xmin = 1897, xmax = 2014, linestyle = '--', label = 'yearly average')\n",
    "plt.xlabel('Year')\n",
    "plt.ylabel('Total precipitation (mm)')\n",
    "plt.title('Total annual precipitation for Boulder, CO')\n",
    "plt.legend()\n",
    "plt.show()"
   ]
  },
  {
   "cell_type": "markdown",
   "metadata": {},
   "source": [
    "### Pause\n",
    "\n",
    "Make two observations about this plot. Type your answers below."
   ]
  },
  {
   "cell_type": "code",
   "execution_count": 7,
   "metadata": {},
   "outputs": [],
   "source": [
    "# convert this cell to markdown and type your answer here"
   ]
  },
  {
   "cell_type": "markdown",
   "metadata": {},
   "source": [
    "Now we want to make a plot of 'residuals.' This will illustrate for us how each year's rainfall varies from the average. To do this, we'll subtract the average rainfall from the actual rainfall for each year. Make a new column in your dataframe called `Residuals (mm)`. As before, we can create this column by performing operations on existing columns - in this case, we'll subtract `Mean (mm)` from `Sum of Precip (mm)`.\n"
   ]
  },
  {
   "cell_type": "code",
   "execution_count": 8,
   "metadata": {},
   "outputs": [
    {
     "data": {
      "text/html": [
       "<div>\n",
       "<style scoped>\n",
       "    .dataframe tbody tr th:only-of-type {\n",
       "        vertical-align: middle;\n",
       "    }\n",
       "\n",
       "    .dataframe tbody tr th {\n",
       "        vertical-align: top;\n",
       "    }\n",
       "\n",
       "    .dataframe thead th {\n",
       "        text-align: right;\n",
       "    }\n",
       "</style>\n",
       "<table border=\"1\" class=\"dataframe\">\n",
       "  <thead>\n",
       "    <tr style=\"text-align: right;\">\n",
       "      <th></th>\n",
       "      <th>Year</th>\n",
       "      <th>Sum of Precip (inches)</th>\n",
       "      <th>Sum of Precip (mm)</th>\n",
       "      <th>Minimum (mm)</th>\n",
       "      <th>Maximum (mm)</th>\n",
       "      <th>Mean (mm)</th>\n",
       "      <th>Standard deviation (mm)</th>\n",
       "      <th>Residuals (mm)</th>\n",
       "    </tr>\n",
       "  </thead>\n",
       "  <tbody>\n",
       "    <tr>\n",
       "      <th>0</th>\n",
       "      <td>1897</td>\n",
       "      <td>15.75</td>\n",
       "      <td>400.050</td>\n",
       "      <td>220.726</td>\n",
       "      <td>867.41</td>\n",
       "      <td>475.670966</td>\n",
       "      <td>115.565467</td>\n",
       "      <td>-75.620966</td>\n",
       "    </tr>\n",
       "    <tr>\n",
       "      <th>1</th>\n",
       "      <td>1898</td>\n",
       "      <td>15.95</td>\n",
       "      <td>405.130</td>\n",
       "      <td>220.726</td>\n",
       "      <td>867.41</td>\n",
       "      <td>475.670966</td>\n",
       "      <td>115.565467</td>\n",
       "      <td>-70.540966</td>\n",
       "    </tr>\n",
       "    <tr>\n",
       "      <th>2</th>\n",
       "      <td>1899</td>\n",
       "      <td>13.93</td>\n",
       "      <td>353.822</td>\n",
       "      <td>220.726</td>\n",
       "      <td>867.41</td>\n",
       "      <td>475.670966</td>\n",
       "      <td>115.565467</td>\n",
       "      <td>-121.848966</td>\n",
       "    </tr>\n",
       "    <tr>\n",
       "      <th>3</th>\n",
       "      <td>1900</td>\n",
       "      <td>16.88</td>\n",
       "      <td>428.752</td>\n",
       "      <td>220.726</td>\n",
       "      <td>867.41</td>\n",
       "      <td>475.670966</td>\n",
       "      <td>115.565467</td>\n",
       "      <td>-46.918966</td>\n",
       "    </tr>\n",
       "    <tr>\n",
       "      <th>4</th>\n",
       "      <td>1901</td>\n",
       "      <td>13.85</td>\n",
       "      <td>351.790</td>\n",
       "      <td>220.726</td>\n",
       "      <td>867.41</td>\n",
       "      <td>475.670966</td>\n",
       "      <td>115.565467</td>\n",
       "      <td>-123.880966</td>\n",
       "    </tr>\n",
       "  </tbody>\n",
       "</table>\n",
       "</div>"
      ],
      "text/plain": [
       "   Year   Sum of Precip (inches)  Sum of Precip (mm)  Minimum (mm)  \\\n",
       "0   1897                   15.75             400.050       220.726   \n",
       "1   1898                   15.95             405.130       220.726   \n",
       "2   1899                   13.93             353.822       220.726   \n",
       "3   1900                   16.88             428.752       220.726   \n",
       "4   1901                   13.85             351.790       220.726   \n",
       "\n",
       "   Maximum (mm)   Mean (mm)  Standard deviation (mm)  Residuals (mm)  \n",
       "0        867.41  475.670966               115.565467      -75.620966  \n",
       "1        867.41  475.670966               115.565467      -70.540966  \n",
       "2        867.41  475.670966               115.565467     -121.848966  \n",
       "3        867.41  475.670966               115.565467      -46.918966  \n",
       "4        867.41  475.670966               115.565467     -123.880966  "
      ]
     },
     "execution_count": 8,
     "metadata": {},
     "output_type": "execute_result"
    }
   ],
   "source": [
    "# create a residuals column\n",
    "\n",
    "yearly_data['Residuals (mm)'] = yearly_data['Sum of Precip (mm)'] - yearly_data['Mean (mm)']\n",
    "\n",
    "# check it out \n",
    "\n",
    "yearly_data.head()"
   ]
  },
  {
   "cell_type": "markdown",
   "metadata": {},
   "source": [
    "Great, time to plot again!"
   ]
  },
  {
   "cell_type": "code",
   "execution_count": 9,
   "metadata": {},
   "outputs": [
    {
     "data": {
      "image/png": "[encoded data removed]",
      "text/plain": [
       "<Figure size 720x432 with 1 Axes>"
      ]
     },
     "metadata": {
      "needs_background": "light"
     },
     "output_type": "display_data"
    }
   ],
   "source": [
    "# plot total annual rainfall against year\n",
    "# add horizontal lines at y = 115 and y = -115 to illustrate the bounds of standard deviation\n",
    "\n",
    "# enlarge figure\n",
    "\n",
    "plt.figure(figsize = (10, 6))\n",
    "\n",
    "# create plot\n",
    "\n",
    "plt.scatter(yearly_data['Year '], yearly_data['Residuals (mm)'])\n",
    "plt.ylim([-500, 500])\n",
    "plt.hlines(y = 115, xmin = 1897, xmax = 2014, linestyle = '--', label = '1 $\\sigma$')\n",
    "plt.hlines(y = -115, xmin = 1897, xmax = 2014, linestyle = '--')\n",
    "plt.xlabel('Year')\n",
    "plt.ylabel('Residual amount (mm)')\n",
    "plt.title('Annual residual precipitation  from average for Boulder, CO')\n",
    "plt.legend()\n",
    "plt.show()"
   ]
  },
  {
   "cell_type": "markdown",
   "metadata": {},
   "source": [
    "### Pause\n",
    "\n",
    "Make two observations about this plot. Type your answers below."
   ]
  },
  {
   "cell_type": "code",
   "execution_count": 10,
   "metadata": {},
   "outputs": [],
   "source": [
    "# convert this cell to markdown and type your answers here"
   ]
  },
  {
   "cell_type": "markdown",
   "metadata": {},
   "source": [
    "We now have a sense for the variation in rainfall that Boulder receives on an annual basis, and we can see from our plots that 2013 was a year of extraordinarily high rainfall - the highest in 117 years of records! But there was something else unusual about the 2013 flood: the <i>timing</i> of the event. To illustrate what I mean by this, we'll make another plot. This one will help us to visualize the temporal pattern of rainfall throughout a typical year in Boulder. \n",
    "\n",
    "This part of the lab will use the second dataset that we imported, which we saved in a dataframe called `monthly_data`. Before we can plot, we need to make some modifications to our `monthly_data` dataframe."
   ]
  },
  {
   "cell_type": "code",
   "execution_count": 11,
   "metadata": {},
   "outputs": [
    {
     "data": {
      "text/html": [
       "<div>\n",
       "<style scoped>\n",
       "    .dataframe tbody tr th:only-of-type {\n",
       "        vertical-align: middle;\n",
       "    }\n",
       "\n",
       "    .dataframe tbody tr th {\n",
       "        vertical-align: top;\n",
       "    }\n",
       "\n",
       "    .dataframe thead th {\n",
       "        text-align: right;\n",
       "    }\n",
       "</style>\n",
       "<table border=\"1\" class=\"dataframe\">\n",
       "  <thead>\n",
       "    <tr style=\"text-align: right;\">\n",
       "      <th></th>\n",
       "      <th>Year</th>\n",
       "      <th>1</th>\n",
       "      <th>2</th>\n",
       "      <th>3</th>\n",
       "      <th>4</th>\n",
       "      <th>5</th>\n",
       "      <th>6</th>\n",
       "      <th>7</th>\n",
       "      <th>8</th>\n",
       "      <th>9</th>\n",
       "      <th>10</th>\n",
       "      <th>11</th>\n",
       "      <th>12</th>\n",
       "    </tr>\n",
       "  </thead>\n",
       "  <tbody>\n",
       "    <tr>\n",
       "      <th>0</th>\n",
       "      <td>1897</td>\n",
       "      <td>0.00</td>\n",
       "      <td>0.00</td>\n",
       "      <td>0.00</td>\n",
       "      <td>0.00</td>\n",
       "      <td>2.30</td>\n",
       "      <td>3.71</td>\n",
       "      <td>3.09</td>\n",
       "      <td>2.96</td>\n",
       "      <td>0.86</td>\n",
       "      <td>1.66</td>\n",
       "      <td>0.47</td>\n",
       "      <td>0.70</td>\n",
       "    </tr>\n",
       "    <tr>\n",
       "      <th>1</th>\n",
       "      <td>1898</td>\n",
       "      <td>0.43</td>\n",
       "      <td>0.55</td>\n",
       "      <td>0.67</td>\n",
       "      <td>1.54</td>\n",
       "      <td>3.76</td>\n",
       "      <td>1.33</td>\n",
       "      <td>0.97</td>\n",
       "      <td>1.45</td>\n",
       "      <td>1.12</td>\n",
       "      <td>0.90</td>\n",
       "      <td>1.93</td>\n",
       "      <td>1.30</td>\n",
       "    </tr>\n",
       "    <tr>\n",
       "      <th>2</th>\n",
       "      <td>1899</td>\n",
       "      <td>0.87</td>\n",
       "      <td>0.98</td>\n",
       "      <td>2.79</td>\n",
       "      <td>1.13</td>\n",
       "      <td>0.53</td>\n",
       "      <td>0.58</td>\n",
       "      <td>2.19</td>\n",
       "      <td>1.81</td>\n",
       "      <td>0.15</td>\n",
       "      <td>1.94</td>\n",
       "      <td>0.00</td>\n",
       "      <td>0.96</td>\n",
       "    </tr>\n",
       "    <tr>\n",
       "      <th>3</th>\n",
       "      <td>1900</td>\n",
       "      <td>0.40</td>\n",
       "      <td>1.06</td>\n",
       "      <td>0.75</td>\n",
       "      <td>9.17</td>\n",
       "      <td>1.84</td>\n",
       "      <td>0.49</td>\n",
       "      <td>0.48</td>\n",
       "      <td>0.22</td>\n",
       "      <td>1.54</td>\n",
       "      <td>0.13</td>\n",
       "      <td>0.19</td>\n",
       "      <td>0.61</td>\n",
       "    </tr>\n",
       "    <tr>\n",
       "      <th>4</th>\n",
       "      <td>1901</td>\n",
       "      <td>0.53</td>\n",
       "      <td>0.30</td>\n",
       "      <td>1.74</td>\n",
       "      <td>3.51</td>\n",
       "      <td>1.62</td>\n",
       "      <td>1.76</td>\n",
       "      <td>0.46</td>\n",
       "      <td>1.69</td>\n",
       "      <td>0.16</td>\n",
       "      <td>0.65</td>\n",
       "      <td>0.00</td>\n",
       "      <td>1.43</td>\n",
       "    </tr>\n",
       "  </tbody>\n",
       "</table>\n",
       "</div>"
      ],
      "text/plain": [
       "   Year      1     2     3     4     5     6     7     8     9    10    11  \\\n",
       "0   1897  0.00  0.00  0.00  0.00  2.30  3.71  3.09  2.96  0.86  1.66  0.47   \n",
       "1   1898  0.43  0.55  0.67  1.54  3.76  1.33  0.97  1.45  1.12  0.90  1.93   \n",
       "2   1899  0.87  0.98  2.79  1.13  0.53  0.58  2.19  1.81  0.15  1.94  0.00   \n",
       "3   1900  0.40  1.06  0.75  9.17  1.84  0.49  0.48  0.22  1.54  0.13  0.19   \n",
       "4   1901  0.53  0.30  1.74  3.51  1.62  1.76  0.46  1.69  0.16  0.65  0.00   \n",
       "\n",
       "     12  \n",
       "0  0.70  \n",
       "1  1.30  \n",
       "2  0.96  \n",
       "3  0.61  \n",
       "4  1.43  "
      ]
     },
     "execution_count": 11,
     "metadata": {},
     "output_type": "execute_result"
    }
   ],
   "source": [
    "# check out the monthly_data dataframe\n",
    "\n",
    "monthly_data.head()"
   ]
  },
  {
   "cell_type": "markdown",
   "metadata": {},
   "source": [
    "Yikes! There are two things we should observe here: first of all, the measurements are in inches again. This time, we <i>won't</i> convert to millimeters, because we'll end this lab with a comparison of rainfall in another city that's also reported in inches. In order to make the comparison, we need the units to match on both datasets.\n",
    "\n",
    "Another problem here is that the columns aren't very easy to read. We know we're looking at monthly data, so let's rename our columns with the names of the months."
   ]
  },
  {
   "cell_type": "code",
   "execution_count": 12,
   "metadata": {},
   "outputs": [
    {
     "data": {
      "text/html": [
       "<div>\n",
       "<style scoped>\n",
       "    .dataframe tbody tr th:only-of-type {\n",
       "        vertical-align: middle;\n",
       "    }\n",
       "\n",
       "    .dataframe tbody tr th {\n",
       "        vertical-align: top;\n",
       "    }\n",
       "\n",
       "    .dataframe thead th {\n",
       "        text-align: right;\n",
       "    }\n",
       "</style>\n",
       "<table border=\"1\" class=\"dataframe\">\n",
       "  <thead>\n",
       "    <tr style=\"text-align: right;\">\n",
       "      <th></th>\n",
       "      <th>Year</th>\n",
       "      <th>Jan</th>\n",
       "      <th>Feb</th>\n",
       "      <th>Mar</th>\n",
       "      <th>Apr</th>\n",
       "      <th>May</th>\n",
       "      <th>Jun</th>\n",
       "      <th>Jul</th>\n",
       "      <th>Aug</th>\n",
       "      <th>Sep</th>\n",
       "      <th>Oct</th>\n",
       "      <th>Nov</th>\n",
       "      <th>Dec</th>\n",
       "    </tr>\n",
       "  </thead>\n",
       "  <tbody>\n",
       "    <tr>\n",
       "      <th>0</th>\n",
       "      <td>1897</td>\n",
       "      <td>0.00</td>\n",
       "      <td>0.00</td>\n",
       "      <td>0.00</td>\n",
       "      <td>0.00</td>\n",
       "      <td>2.30</td>\n",
       "      <td>3.71</td>\n",
       "      <td>3.09</td>\n",
       "      <td>2.96</td>\n",
       "      <td>0.86</td>\n",
       "      <td>1.66</td>\n",
       "      <td>0.47</td>\n",
       "      <td>0.70</td>\n",
       "    </tr>\n",
       "    <tr>\n",
       "      <th>1</th>\n",
       "      <td>1898</td>\n",
       "      <td>0.43</td>\n",
       "      <td>0.55</td>\n",
       "      <td>0.67</td>\n",
       "      <td>1.54</td>\n",
       "      <td>3.76</td>\n",
       "      <td>1.33</td>\n",
       "      <td>0.97</td>\n",
       "      <td>1.45</td>\n",
       "      <td>1.12</td>\n",
       "      <td>0.90</td>\n",
       "      <td>1.93</td>\n",
       "      <td>1.30</td>\n",
       "    </tr>\n",
       "    <tr>\n",
       "      <th>2</th>\n",
       "      <td>1899</td>\n",
       "      <td>0.87</td>\n",
       "      <td>0.98</td>\n",
       "      <td>2.79</td>\n",
       "      <td>1.13</td>\n",
       "      <td>0.53</td>\n",
       "      <td>0.58</td>\n",
       "      <td>2.19</td>\n",
       "      <td>1.81</td>\n",
       "      <td>0.15</td>\n",
       "      <td>1.94</td>\n",
       "      <td>0.00</td>\n",
       "      <td>0.96</td>\n",
       "    </tr>\n",
       "    <tr>\n",
       "      <th>3</th>\n",
       "      <td>1900</td>\n",
       "      <td>0.40</td>\n",
       "      <td>1.06</td>\n",
       "      <td>0.75</td>\n",
       "      <td>9.17</td>\n",
       "      <td>1.84</td>\n",
       "      <td>0.49</td>\n",
       "      <td>0.48</td>\n",
       "      <td>0.22</td>\n",
       "      <td>1.54</td>\n",
       "      <td>0.13</td>\n",
       "      <td>0.19</td>\n",
       "      <td>0.61</td>\n",
       "    </tr>\n",
       "    <tr>\n",
       "      <th>4</th>\n",
       "      <td>1901</td>\n",
       "      <td>0.53</td>\n",
       "      <td>0.30</td>\n",
       "      <td>1.74</td>\n",
       "      <td>3.51</td>\n",
       "      <td>1.62</td>\n",
       "      <td>1.76</td>\n",
       "      <td>0.46</td>\n",
       "      <td>1.69</td>\n",
       "      <td>0.16</td>\n",
       "      <td>0.65</td>\n",
       "      <td>0.00</td>\n",
       "      <td>1.43</td>\n",
       "    </tr>\n",
       "  </tbody>\n",
       "</table>\n",
       "</div>"
      ],
      "text/plain": [
       "   Year   Jan   Feb   Mar   Apr   May   Jun   Jul   Aug   Sep   Oct   Nov  \\\n",
       "0  1897  0.00  0.00  0.00  0.00  2.30  3.71  3.09  2.96  0.86  1.66  0.47   \n",
       "1  1898  0.43  0.55  0.67  1.54  3.76  1.33  0.97  1.45  1.12  0.90  1.93   \n",
       "2  1899  0.87  0.98  2.79  1.13  0.53  0.58  2.19  1.81  0.15  1.94  0.00   \n",
       "3  1900  0.40  1.06  0.75  9.17  1.84  0.49  0.48  0.22  1.54  0.13  0.19   \n",
       "4  1901  0.53  0.30  1.74  3.51  1.62  1.76  0.46  1.69  0.16  0.65  0.00   \n",
       "\n",
       "    Dec  \n",
       "0  0.70  \n",
       "1  1.30  \n",
       "2  0.96  \n",
       "3  0.61  \n",
       "4  1.43  "
      ]
     },
     "execution_count": 12,
     "metadata": {},
     "output_type": "execute_result"
    }
   ],
   "source": [
    "# rename columns\n",
    "\n",
    "monthly_data.columns = ['Year', \n",
    "                        'Jan', \n",
    "                        'Feb', \n",
    "                        'Mar', \n",
    "                        'Apr', \n",
    "                        'May', \n",
    "                        'Jun', \n",
    "                        'Jul', \n",
    "                        'Aug', \n",
    "                        'Sep', \n",
    "                        'Oct', \n",
    "                        'Nov', \n",
    "                        'Dec']\n",
    "\n",
    "# check it out\n",
    "\n",
    "monthly_data.head()"
   ]
  },
  {
   "cell_type": "markdown",
   "metadata": {},
   "source": [
    "Great, now we're ready to start making a visualization of yearly precipitation pattern in Boulder. In order to do this, we need to find monthly precipitation averages and standard deviations. We'll do this by using `numpy` operations on our `monthly_data` dataframe."
   ]
  },
  {
   "cell_type": "code",
   "execution_count": 13,
   "metadata": {},
   "outputs": [],
   "source": [
    "# averages\n",
    "\n",
    "jan_avg = np.mean(monthly_data['Jan'])\n",
    "feb_avg = np.mean(monthly_data['Feb'])\n",
    "mar_avg = np.mean(monthly_data['Mar'])\n",
    "apr_avg = np.mean(monthly_data['Apr'])\n",
    "may_avg = np.mean(monthly_data['May'])\n",
    "jun_avg = np.mean(monthly_data['Jun'])\n",
    "jul_avg = np.mean(monthly_data['Jul'])\n",
    "aug_avg = np.mean(monthly_data['Aug'])\n",
    "sep_avg = np.mean(monthly_data['Sep'])\n",
    "oct_avg = np.mean(monthly_data['Oct'])\n",
    "nov_avg = np.mean(monthly_data['Nov'])\n",
    "dec_avg = np.mean(monthly_data['Dec'])\n",
    "\n",
    "# standard deviations\n",
    "\n",
    "jan_std = np.std(monthly_data['Jan'])\n",
    "feb_std = np.std(monthly_data['Feb'])\n",
    "mar_std = np.std(monthly_data['Mar'])\n",
    "apr_std = np.std(monthly_data['Apr'])\n",
    "may_std = np.std(monthly_data['May'])\n",
    "jun_std = np.std(monthly_data['Jun'])\n",
    "jul_std = np.std(monthly_data['Jul'])\n",
    "aug_std = np.std(monthly_data['Aug'])\n",
    "sep_std = np.std(monthly_data['Sep'])\n",
    "oct_std = np.std(monthly_data['Oct'])\n",
    "nov_std = np.std(monthly_data['Nov'])\n",
    "dec_std = np.std(monthly_data['Dec'])"
   ]
  },
  {
   "cell_type": "code",
   "execution_count": 14,
   "metadata": {},
   "outputs": [
    {
     "data": {
      "image/png": "[encoded data removed]",
      "text/plain": [
       "<Figure size 720x432 with 1 Axes>"
      ]
     },
     "metadata": {
      "needs_background": "light"
     },
     "output_type": "display_data"
    }
   ],
   "source": [
    "# create figure and axis\n",
    "\n",
    "plt.figure(figsize = (10, 6))\n",
    "\n",
    "# create figure \n",
    "\n",
    "plt.bar('Jan', jan_avg, yerr = jan_std, color = 'orange')\n",
    "plt.bar('Feb', feb_avg, yerr = feb_std, color = 'orange')\n",
    "plt.bar('Mar', mar_avg, yerr = mar_std, color = 'orange')\n",
    "plt.bar('Apr', apr_avg, yerr = apr_std, color = 'orange')\n",
    "plt.bar('May', may_avg, yerr = may_std, color = 'orange')\n",
    "plt.bar('Jun', jun_avg, yerr = jun_std, color = 'orange')\n",
    "plt.bar('Jul', jul_avg, yerr = jul_std, color = 'orange')\n",
    "plt.bar('Aug', aug_avg, yerr = aug_std, color = 'orange')\n",
    "plt.bar('Sep', sep_avg, yerr = sep_std, color = 'orange')\n",
    "plt.bar('Oct', oct_avg, yerr = oct_std, color = 'orange')\n",
    "plt.bar('Nov', nov_avg, yerr = nov_std, color = 'orange')\n",
    "plt.bar('Dec', dec_avg, yerr = dec_std, color = 'orange')\n",
    "plt.ylabel('Monthly Precipitation (in)')\n",
    "plt.title('Average monthly precipitation and standard deviations in Boulder, CO')\n",
    "plt.show()"
   ]
  },
  {
   "cell_type": "markdown",
   "metadata": {},
   "source": [
    "### Pause\n",
    "\n",
    "Make two observations about this plot. Is there anything unusual about the timing of the September 2013 flood? Type your answers below."
   ]
  },
  {
   "cell_type": "code",
   "execution_count": 15,
   "metadata": {},
   "outputs": [],
   "source": [
    "# convert this cell to markdown and type answers here"
   ]
  },
  {
   "cell_type": "markdown",
   "metadata": {},
   "source": [
    "Cool plot! We now have visual representations of how much precipitation Boulder has received over the last 117 years, and how that percipitation tends to be distributed throughout the year. The last thing we want to do is consider how Boulder differs from other places in the United States. As an example, we'll look at some data from Seattle.\n",
    "\n",
    "<img src=\"data/seattle_rainfall.png\" width = 500>"
   ]
  },
  {
   "cell_type": "markdown",
   "metadata": {},
   "source": [
    "### Pause\n",
    "\n",
    "Make two comparisons between this plot from Seattle and our similar plot from Boulder. How does the temporal pattern of rainfall vary? How about variation in monthly rainfall? Think about the geologic settings of these two cities. What environmental factors might be impacting the precipitation patterns in these two cities?"
   ]
  },
  {
   "cell_type": "markdown",
   "metadata": {},
   "source": [
    "## Congratulations, you made it to the end!"
   ]
  },
  {
   "cell_type": "code",
   "execution_count": null,
   "metadata": {},
   "outputs": [],
   "source": []
  }
 ],
 "metadata": {
  "kernelspec": {
   "display_name": "Python 3",
   "language": "python",
   "name": "python3"
  },
  "language_info": {
   "codemirror_mode": {
    "name": "ipython",
    "version": 3
   },
   "file_extension": ".py",
   "mimetype": "text/x-python",
   "name": "python",
   "nbconvert_exporter": "python",
   "pygments_lexer": "ipython3",
   "version": "3.7.7"
  }
 },
 "nbformat": 4,
 "nbformat_minor": 4
}
